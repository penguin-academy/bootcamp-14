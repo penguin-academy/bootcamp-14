{
 "cells": [
  {
   "cell_type": "markdown",
   "metadata": {},
   "source": [
    "# Alcance (Scope - Ambito de una variable)\n",
    "El alcance hace referencia a los limites en el que existe una variable \n",
    "\n",
    "- El alcance puede ser de dos tipos \n",
    "- Alcance global \n",
    "- Alcance local "
   ]
  },
  {
   "cell_type": "code",
   "execution_count": 2,
   "metadata": {},
   "outputs": [
    {
     "name": "stdout",
     "output_type": "stream",
     "text": [
      "Distancia 10\n",
      "Distancia a Mcal lopez 1\n"
     ]
    }
   ],
   "source": [
    "# Variables locales \n",
    "# Variables globales \n",
    "\n",
    "# Funcion avanzar que haga referencia a un recorrido en movil hasta San Lorenzo y que puede cambiar y ser un recorrido hasta Mcal Lopez \n",
    "\n",
    "distancia_mcal_lopez = 1 # variables de alcance global \n",
    "def avanzar():\n",
    "    distancia_final_sanlo = 10 # variable de alcance local \n",
    "    print(\"Distancia\", distancia_final_sanlo)\n",
    "    print(\"Distancia a Mcal lopez\", distancia_mcal_lopez)\n",
    "avanzar()\n",
    "\n",
    "\n"
   ]
  },
  {
   "cell_type": "markdown",
   "metadata": {},
   "source": [
    "# Parametros y argumentos \n",
    "\n"
   ]
  }
 ],
 "metadata": {
  "kernelspec": {
   "display_name": "Python 3.10.4 64-bit",
   "language": "python",
   "name": "python3"
  },
  "language_info": {
   "codemirror_mode": {
    "name": "ipython",
    "version": 3
   },
   "file_extension": ".py",
   "mimetype": "text/x-python",
   "name": "python",
   "nbconvert_exporter": "python",
   "pygments_lexer": "ipython3",
   "version": "3.10.4"
  },
  "orig_nbformat": 4,
  "vscode": {
   "interpreter": {
    "hash": "aee8b7b246df8f9039afb4144a1f6fd8d2ca17a180786b69acc140d282b71a49"
   }
  }
 },
 "nbformat": 4,
 "nbformat_minor": 2
}
