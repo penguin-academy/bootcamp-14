{
 "cells": [
  {
   "cell_type": "markdown",
   "metadata": {},
   "source": [
    "# Alcance (Scope - Ambito de una variable)\n",
    "El alcance hace referencia a los limites en el que existe una variable \n",
    "\n",
    "- El alcance puede ser de dos tipos \n",
    "- Alcance global \n",
    "- Alcance local "
   ]
  },
  {
   "cell_type": "code",
   "execution_count": 2,
   "metadata": {},
   "outputs": [
    {
     "name": "stdout",
     "output_type": "stream",
     "text": [
      "Distancia 10\n",
      "Distancia a Mcal lopez 1\n"
     ]
    }
   ],
   "source": [
    "# Variables locales \n",
    "# Variables globales \n",
    "\n",
    "# Funcion avanzar que haga referencia a un recorrido en movil hasta San Lorenzo y que puede cambiar y ser un recorrido hasta Mcal Lopez \n",
    "\n",
    "distancia_mcal_lopez = 1 # variables de alcance global \n",
    "def avanzar():\n",
    "    distancia_final_sanlo = 10 # variable de alcance local \n",
    "    print(\"Distancia\", distancia_final_sanlo)\n",
    "    print(\"Distancia a Mcal lopez\", distancia_mcal_lopez)\n",
    "avanzar()\n",
    "\n",
    "\n"
   ]
  },
  {
   "cell_type": "markdown",
   "metadata": {},
   "source": [
    "# Parametros y argumentos \n",
    "\n",
    "En resumen: \n",
    "\n",
    "- Parametro es un valor que la funcion espera recibir \n",
    "- Argumentos son el valor que se envia al llamar a la funcion \n",
    "\n"
   ]
  },
  {
   "cell_type": "code",
   "execution_count": 6,
   "metadata": {},
   "outputs": [
    {
     "name": "stdout",
     "output_type": "stream",
     "text": [
      "auto vendido con estas caracteristicas azul 2009 camioneta\n",
      "auto vendido con estas caracteristicas verde 2004 audi\n"
     ]
    }
   ],
   "source": [
    "# Vamos a hacer una funcion que venda autos para la concesionaria Censu y utilizaremos parametros y argumentos con las caracteristicas de los autos \n",
    "\n",
    "# la funcion va a tener como parametros las caracteristicas de los autos a vender color, anho \n",
    "\n",
    "# funcion vender autos \n",
    "\n",
    "def vender_autos(color, anho, tipo_auto): #defino mis parametros \n",
    "    print(\"auto vendido con estas caracteristicas\", color, anho, tipo_auto)\n",
    "vender_autos(\"azul\", 2009, \"camioneta\") # al llamar a la funcion le pasamos los argumentos 1 ra venta de auto \n",
    "vender_autos(\"verde\", 2004, \"audi\") # 2 da venta de auto \n",
    "\n"
   ]
  },
  {
   "cell_type": "markdown",
   "metadata": {},
   "source": [
    "# Challenge \n",
    "\n",
    "Dada la función que acabamos de crear, definir un parametro mas sobre el auto que quiere vender y concatenar al momento de imprimir."
   ]
  }
 ],
 "metadata": {
  "kernelspec": {
   "display_name": "Python 3.10.4 64-bit",
   "language": "python",
   "name": "python3"
  },
  "language_info": {
   "codemirror_mode": {
    "name": "ipython",
    "version": 3
   },
   "file_extension": ".py",
   "mimetype": "text/x-python",
   "name": "python",
   "nbconvert_exporter": "python",
   "pygments_lexer": "ipython3",
   "version": "3.10.4"
  },
  "orig_nbformat": 4,
  "vscode": {
   "interpreter": {
    "hash": "aee8b7b246df8f9039afb4144a1f6fd8d2ca17a180786b69acc140d282b71a49"
   }
  }
 },
 "nbformat": 4,
 "nbformat_minor": 2
}
