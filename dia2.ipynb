{
 "cells": [
  {
   "cell_type": "markdown",
   "metadata": {},
   "source": [
    "# Alcance (Scope - Ambito de una variable)\n",
    "El alcance hace referencia a los limites en el que existe una variable \n",
    "\n",
    "- El alcance puede ser de dos tipos \n",
    "- Alcance global \n",
    "- Alcance local "
   ]
  },
  {
   "cell_type": "code",
   "execution_count": 2,
   "metadata": {},
   "outputs": [
    {
     "name": "stdout",
     "output_type": "stream",
     "text": [
      "Distancia 10\n",
      "Distancia a Mcal lopez 1\n"
     ]
    }
   ],
   "source": [
    "# Variables locales \n",
    "# Variables globales \n",
    "\n",
    "# Funcion avanzar que haga referencia a un recorrido en movil hasta San Lorenzo y que puede cambiar y ser un recorrido hasta Mcal Lopez \n",
    "\n",
    "distancia_mcal_lopez = 1 # variables de alcance global \n",
    "def avanzar():\n",
    "    distancia_final_sanlo = 10 # variable de alcance local \n",
    "    print(\"Distancia\", distancia_final_sanlo)\n",
    "    print(\"Distancia a Mcal lopez\", distancia_mcal_lopez)\n",
    "avanzar()\n",
    "\n",
    "\n"
   ]
  },
  {
   "cell_type": "markdown",
   "metadata": {},
   "source": [
    "# Parametros y argumentos \n",
    "\n",
    "En resumen: \n",
    "\n",
    "- Parametro es un valor que la funcion espera recibir \n",
    "- Argumentos son el valor que se envia al llamar a la funcion \n",
    "\n"
   ]
  },
  {
   "cell_type": "code",
   "execution_count": 6,
   "metadata": {},
   "outputs": [
    {
     "name": "stdout",
     "output_type": "stream",
     "text": [
      "auto vendido con estas caracteristicas azul 2009 camioneta\n",
      "auto vendido con estas caracteristicas verde 2004 audi\n"
     ]
    }
   ],
   "source": [
    "# Vamos a hacer una funcion que venda autos para la concesionaria Censu y utilizaremos parametros y argumentos con las caracteristicas de los autos \n",
    "\n",
    "# la funcion va a tener como parametros las caracteristicas de los autos a vender color, anho \n",
    "\n",
    "# funcion vender autos \n",
    "\n",
    "def vender_autos(color, anho, tipo_auto): #defino mis parametros \n",
    "    print(\"auto vendido con estas caracteristicas\", color, anho, tipo_auto)\n",
    "vender_autos(\"azul\", 2009, \"camioneta\") # al llamar a la funcion le pasamos los argumentos 1 ra venta de auto \n",
    "vender_autos(\"verde\", 2004, \"audi\") # 2 da venta de auto \n",
    "\n"
   ]
  },
  {
   "cell_type": "markdown",
   "metadata": {},
   "source": [
    "# Challenge \n",
    "\n",
    "Dada la función que acabamos de crear, definir un parametro mas sobre el auto que quiere vender y concatenar al momento de imprimir."
   ]
  },
  {
   "cell_type": "code",
   "execution_count": 7,
   "metadata": {},
   "outputs": [
    {
     "name": "stdout",
     "output_type": "stream",
     "text": [
      "auto vendido con estas caracteristicas, azul, 2009, camioneta, diesel\n",
      "auto vendido con estas caracteristicas, verde, 2004, audi, biogas\n",
      "auto vendido con estas caracteristicas, rojo, 2022, kia, nafta\n"
     ]
    }
   ],
   "source": [
    "def vender_autos(color, anho, tipo_auto,combustible): #defino mis parametros \n",
    "    print(f\"auto vendido con estas caracteristicas, {color}, {anho}, {tipo_auto}, {combustible}\")\n",
    "vender_autos(\"azul\", 2009, \"camioneta\",\"diesel\") # al llamar a la funcion le pasamos los argumentos 1 ra venta de auto \n",
    "vender_autos(\"verde\", 2004, \"audi\", \"biogas\") # 2 da venta de auto\n",
    "vender_autos('rojo',2022,'kia', \"nafta\")"
   ]
  },
  {
   "cell_type": "code",
   "execution_count": 9,
   "metadata": {},
   "outputs": [
    {
     "name": "stdout",
     "output_type": "stream",
     "text": [
      "Control de ventas automor\n",
      "El auto que vendiste tiene estas características. Es de blanco, 2022, Hyundai, y New Santa Fe, ¡SEGUÍ ASÍ!. ¡Buenas ventas!\n"
     ]
    }
   ],
   "source": [
    "print(\"Control de ventas automor\")\n",
    "def venta_de_autos(color, anho, marca, modelo):\n",
    "    print(f\"El auto que vendiste tiene estas características. Es de {color}, {anho}, {marca}, y {modelo}, ¡SEGUÍ ASÍ!. ¡Buenas ventas!\")\n",
    "venta_de_autos(\"blanco\", 2022, \"Hyundai\", \"New Santa Fe\")\n",
    "#venta_de_autos(\"plata\", 2022, \"Maserati\",\"Levante\")\n",
    "#venta_de_autos(\"gris\", 2022, \"Geely\", \"Emgrand Gx3\")\n"
   ]
  },
  {
   "cell_type": "code",
   "execution_count": 10,
   "metadata": {},
   "outputs": [
    {
     "name": "stdout",
     "output_type": "stream",
     "text": [
      "El vehiculo que ha sido vendido es de color azul del anho 2009 tipo camioneta de la marca Mercedes\n",
      "El vehiculo que ha sido vendido es de color verde del anho 2004 tipo Sportage de la marca Kia\n"
     ]
    }
   ],
   "source": [
    "def vender_autos(color, anho, tipo_auto,marca_de_auto): #defino mis parametros \n",
    "    print(f\"El vehiculo que ha sido vendido es de color {color} del anho {anho} tipo {tipo_auto} de la marca { marca_de_auto}\")\n",
    "vender_autos(\"azul\", 2009, \"camioneta\",\"Mercedes\") \n",
    "vender_autos(\"verde\", 2004,\"Sportage\", \"Kia\")"
   ]
  },
  {
   "cell_type": "markdown",
   "metadata": {},
   "source": [
    "# Operadores de relacion y su interpretacion \n"
   ]
  },
  {
   "cell_type": "code",
   "execution_count": null,
   "metadata": {},
   "outputs": [],
   "source": [
    "# Ubicar teclas en la computadora \n",
    "# menor que  < ---> cerca de la tecla shift \n",
    "# menor o igual que <= ----> cerca de la tecla delete \n",
    "# > mayor que ---> cerca de la tecla shift \n",
    "# >= mayor e igual que ---> cerca de la tecla shift y delete\n",
    "# == igual ---> cerca de la tecla delete \n",
    "# != diferente ---> cerca de la parte numerica de arriba\n"
   ]
  },
  {
   "cell_type": "markdown",
   "metadata": {},
   "source": [
    "# Condicionales \n",
    "\n",
    "Son criterios \n",
    "Se tiene que cumplir o no cumplir \n",
    "Son condiciones \n",
    "\n",
    "Tenemos palabras en python que nos ayudan a hacer estas verificaciones y son 3 principales:\n",
    "\n",
    "- if (si): el if se ejecuta siempre que la expresion que comprueba devuelve True \n",
    "- elif (sino si): se encadena a un if u a otro elif para comprobar multiples condiciones, siempre que no ejecutan las anteriores \n",
    "- else (sino): se encandena a un if para comprobar el caso contrario (en el que no se cumpla la condicion)"
   ]
  },
  {
   "cell_type": "code",
   "execution_count": 14,
   "metadata": {},
   "outputs": [
    {
     "name": "stdout",
     "output_type": "stream",
     "text": [
      "Es mayor puede ingresar\n"
     ]
    }
   ],
   "source": [
    "# Un programa que le sirva al guardia de un bar para verificar la edad de los clientes \n",
    "\n",
    "edad = 20\n",
    "\n",
    "if edad < 18: \n",
    "    print(\"Es menor no puede ingresar. Lo siento mucho\")\n",
    "else:\n",
    "    print(\"Es mayor puede ingresar\") "
   ]
  },
  {
   "cell_type": "code",
   "execution_count": 20,
   "metadata": {},
   "outputs": [
    {
     "name": "stdout",
     "output_type": "stream",
     "text": [
      "No puedo vender el auto\n"
     ]
    }
   ],
   "source": [
    "#color = input(\"Ingresa un color de auto\")\n",
    "color = \"azul\"\n",
    "modelo_auto = \"mercedes\"\n",
    "\n",
    "if color == \"verde\" and modelo_auto == \"mercedes\": \n",
    "    # condicion verifica la igualdad \n",
    "    print(\"Puedo vender el auto tengo en stock\")\n",
    "else:\n",
    "    print(\"No puedo vender el auto\")"
   ]
  },
  {
   "cell_type": "markdown",
   "metadata": {},
   "source": [
    "# Dos condicionales a la vez\n",
    "\n",
    "- si es verde y (and) barato quiero comprar ---> se cumplen ambas condiciones para que se verdadero\n",
    "- si es rojo o (or) azul quiero comprar ---> se cumple 1 sola y ya es verdadero \n",
    "- not convierte el valor \n",
    "# Mas detalle \n",
    "- and: verdadero solo si los dos elementos son verdaderos \n",
    "- or: verdadero si cualquiera de los elementos es verdadero \n",
    "- not: cambia el valor de Falso a Verdadero y viceversa "
   ]
  },
  {
   "cell_type": "markdown",
   "metadata": {},
   "source": [
    "# Mini Challenge\n",
    "\n",
    "- Escribir un programa que verifique dos condiciones para la concesionaria Censu \n",
    "\n",
    "- considerar la relacion de color y la relacion de modelo que quiera el cliente \n",
    "\n"
   ]
  },
  {
   "cell_type": "code",
   "execution_count": 29,
   "metadata": {},
   "outputs": [
    {
     "name": "stdout",
     "output_type": "stream",
     "text": [
      "True\n"
     ]
    }
   ],
   "source": [
    "# Mas explicacion sobre condicionales \n",
    "\n",
    "color_auto = \"azul\"\n",
    "marca_auto = \"mercedes\"\n",
    "\n",
    "print(color_auto == \"azul\" or marca_auto == \"toyota\")\n",
    "\n"
   ]
  },
  {
   "cell_type": "markdown",
   "metadata": {},
   "source": [
    "# Paginas utilizadas googleadas \n",
    "\n",
    "-  https://www.freecodecamp.org/espanol/news/operadores-basicos-en-python-con-ejemplos/ Explicaciones de ayuda que googleamos\n",
    "-  https://www.mclibre.org/consultar/python/lecciones/python-if-else.html  diagrama de flujo "
   ]
  },
  {
   "cell_type": "markdown",
   "metadata": {},
   "source": [
    "# Challenge \n",
    "\n",
    "Escribir un programa en el que se pregunte al usuario por una temperatura (en grados Celsius), imprima la temperatura escrita, y luego clasificar la temperatura ingresada en los siguientes niveles:\n",
    "\n",
    "Entre -10 y 18 grados, que imprima \"Fresquete\".\n",
    "Entre 19 y 30 grados, que imprima \"Calor'i\".\n",
    "Entre 31 y 45 grados, que imprima \"Hakuuuuuu\".\n",
    "Para todo lo demás, imprimir \"Ñamano mba'e!\"."
   ]
  }
 ],
 "metadata": {
  "kernelspec": {
   "display_name": "Python 3.10.4 64-bit",
   "language": "python",
   "name": "python3"
  },
  "language_info": {
   "codemirror_mode": {
    "name": "ipython",
    "version": 3
   },
   "file_extension": ".py",
   "mimetype": "text/x-python",
   "name": "python",
   "nbconvert_exporter": "python",
   "pygments_lexer": "ipython3",
   "version": "3.10.4"
  },
  "orig_nbformat": 4,
  "vscode": {
   "interpreter": {
    "hash": "aee8b7b246df8f9039afb4144a1f6fd8d2ca17a180786b69acc140d282b71a49"
   }
  }
 },
 "nbformat": 4,
 "nbformat_minor": 2
}
