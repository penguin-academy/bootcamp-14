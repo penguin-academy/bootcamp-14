{
 "cells": [
  {
   "cell_type": "markdown",
   "metadata": {},
   "source": [
    "# Diccionarios"
   ]
  },
  {
   "cell_type": "markdown",
   "metadata": {},
   "source": [
    "Un diccionario es una coleccion de pares formados por una clave y un valor asociado a la clave. \n",
    "Se construyen poniendo los pares entre { } llaves separados por comas, y separando la clave del valor con dos puntos : \n"
   ]
  },
  {
   "cell_type": "code",
   "execution_count": 7,
   "metadata": {},
   "outputs": [
    {
     "name": "stdout",
     "output_type": "stream",
     "text": [
      "{'heladera': 'james', 'microondas': 'midas', 'cafetera': 'juan valdez'}\n",
      "{'mesas': 'madera', 'sillas': 'oficina', 'pizarra': 'acrilica'}\n",
      "james\n",
      "midas\n",
      "{'heladera': 'tokio', 'microondas': 'midas', 'cafetera': 'juan valdez'}\n",
      "{'heladera': 'tokio', 'microondas': 'midas', 'cafetera': 'juan valdez', 'platos': 'ceramica'}\n",
      "{'heladera': 'tokio', 'microondas': 'midas', 'cafetera': 'juan valdez'}\n",
      "{'microondas': 'midas', 'cafetera': 'juan valdez'}\n"
     ]
    }
   ],
   "source": [
    "# Trabajamos con diccionarios \n",
    "\n",
    "diccionario_vacio = {} # esto es un diccionario vacio, no tiene nada entre las llaves \n",
    "\n",
    "mi_cafeteria = {\"heladera\": \"james\" , \"microondas\": \"midas\", \"cafetera\": \"juan valdez\"}\n",
    "\n",
    "mi_aulacita = {\"mesas\": \"madera\", \"sillas\": \"oficina\", \"pizarra\" :\"acrilica\"}\n",
    "\n",
    "print(mi_cafeteria)\n",
    "print(mi_aulacita)\n",
    "\n",
    "# acceder a los elementos  de un diccionario \n",
    "# accedimos al valor heladera por medio de la clave heladera \n",
    "\n",
    "print(mi_cafeteria[\"heladera\"])\n",
    "\n",
    "print(mi_cafeteria[\"microondas\"])\n",
    "\n",
    "#otra marca de heladera tokio vamos a hacer una actualizacion o reasignacion \n",
    "\n",
    "mi_cafeteria[\"heladera\"] = \"tokio\"\n",
    "\n",
    "print(mi_cafeteria)\n",
    "\n",
    "#Anhadir datos a un diccionario \n",
    "\n",
    "mi_cafeteria[\"platos\"] = \"ceramica\"\n",
    "print(mi_cafeteria)\n",
    "\n",
    "#eliminar pares de valores del final \n",
    "\n",
    "mi_cafeteria.popitem()\n",
    "print(mi_cafeteria)\n",
    "\n",
    "#eliminar por medio de la clave: es la palabra de referencia al valor \n",
    "\n",
    "del mi_cafeteria[\"heladera\"] # porque queremos eliminar heladera y su valor \n",
    "print(mi_cafeteria)\n",
    "\n",
    "\n",
    "\n",
    "\n"
   ]
  },
  {
   "cell_type": "markdown",
   "metadata": {},
   "source": [
    "## Challenge 1 \n",
    "Escribir un programa que cree un diccionario vacío y lo vaya llenado con información sobre una persona (por ejemplo nombre, edad, teléfono, correo electrónico, etc. pueden agregar lo que quieran) que se le pida al usuario. Cada vez que se añada un nuevo dato debe imprimirse el contenido del diccionario."
   ]
  },
  {
   "cell_type": "code",
   "execution_count": null,
   "metadata": {},
   "outputs": [],
   "source": [
    "# Pistas \n",
    "# Crear un diccionario vacio \n",
    "# Pedir la usuario --> input en relacion a una variable clave y otra variable valor \n",
    "# Usar lo que vimos de anhadir clave, valor al diccionario \n",
    "# imprimir es usar --> print usar nombre del diccionario si queremos el diccionario completo \n",
    "# Utilizar un ciclo while \n"
   ]
  },
  {
   "cell_type": "markdown",
   "metadata": {},
   "source": [
    "## Challenge 2\n",
    "\n",
    "Challenge 2 \n",
    "Crear una tarjeta personal. El usuario (mediante input) puede elegir:\n",
    "\n",
    "1. Crear datos nuevos\n",
    "2. Modificar datos\n",
    "3. Eliminar datos"
   ]
  },
  {
   "cell_type": "code",
   "execution_count": null,
   "metadata": {},
   "outputs": [],
   "source": [
    "# crear un diccionario vacio \n",
    "# reasignar datos mi_cafeteria[\"heladera\"] = \"tokio\"\n",
    "# con popitem o del \n",
    "# similar al ejercicio anterior el usuario tiene que seleccionar opciones reiteradas veces puedo usar un while\n",
    "# input \n",
    "\n",
    "\n",
    "\n"
   ]
  },
  {
   "cell_type": "code",
   "execution_count": 8,
   "metadata": {},
   "outputs": [
    {
     "name": "stdout",
     "output_type": "stream",
     "text": [
      "dict_keys(['microondas', 'cafetera'])\n",
      "dict_values(['midas', 'juan valdez'])\n",
      "dict_items([('microondas', 'midas'), ('cafetera', 'juan valdez')])\n"
     ]
    }
   ],
   "source": [
    "print(mi_cafeteria.keys()) #muestra las claves del diccionario \n",
    "print(mi_cafeteria.values()) #muestra los valores del diccionario \n",
    "print(mi_cafeteria.items()) #muestra la clave y valor de un diccionario "
   ]
  },
  {
   "cell_type": "code",
   "execution_count": 9,
   "metadata": {},
   "outputs": [
    {
     "name": "stdout",
     "output_type": "stream",
     "text": [
      "==========================\n",
      "Datos ingresados\n",
      "{'nombre': 'david'}\n",
      "==========================\n",
      "Datos ingresados\n",
      "{'nombre': 'david', 'apellido': 'mendez'}\n",
      "==========================\n",
      "Datos ingresados\n",
      "{'nombre': 'david', 'apellido': 'mendez', 'edad': '27'}\n"
     ]
    }
   ],
   "source": [
    "# Socializacion ejercicio uno \n",
    "\n",
    "# Challenge 1\n",
    "usuarios = {}\n",
    "\n",
    "intentos = input(\"escriba si, si desea agregar mas datos y cualquier cosa si ya no quiere\")\n",
    "while intentos == \"si\":\n",
    "    clave = input(\"ingrese una clave\")\n",
    "    valor = input(\"ingrese un valor\")\n",
    "    usuarios[clave] = valor\n",
    "    print(\"==========================\")\n",
    "    print(\"Datos ingresados\")\n",
    "    print(usuarios)\n",
    "    nuevoIntento = input(\"SI si quiere seguir y cualquier cosa si no quiere\")\n",
    "    intentos = nuevoIntento \n",
    "\n"
   ]
  },
  {
   "cell_type": "code",
   "execution_count": 10,
   "metadata": {},
   "outputs": [
    {
     "name": "stdout",
     "output_type": "stream",
     "text": [
      "{'sol': 'nombre'}\n",
      "{'sol': 'nombre', 'azul': 'color'}\n",
      "{'sol': 'nombre', 'azul': 'color', 'derecha': 'mano'}\n"
     ]
    }
   ],
   "source": [
    "diccionario_challenge = {}\n",
    "contador = 0 \n",
    "while contador < 3:\n",
    "    contador = contador + 1\n",
    "    diccionario_challenge[input(\"Dato usuario\")] = input(\"Valor usuario\")\n",
    "    print(diccionario_challenge)"
   ]
  },
  {
   "cell_type": "code",
   "execution_count": null,
   "metadata": {},
   "outputs": [],
   "source": [
    "#Socializacion Ejercicio dos \n",
    "\n",
    "tarjeta_personal = {}\n",
    "# se crea un diccionario vacio \n",
    "\n",
    "opcion=int(input(\"ingrese la opcion\"))\n",
    "#con un input pedimos que se ingrese un opcion\n",
    "\n",
    "while True:\n",
    "#inciarisamos con bulge while\n",
    "    print(\"bienvenido a mi tarjeta personal\")\n",
    "    print(\"precione (1) para crear datos\")\n",
    "    print(\"precione (2) para modificar datos\")\n",
    "    print(\"precione (3) para eleminar datos\")\n",
    "    print(\"precione (4) para salir\")\n",
    "#imprimimos las opciones \n",
    "    if opcion == 1:\n",
    "   #preguntamos con un condicion si opcion es igual a uno\n",
    "        clave=input(\"ingrese la clave\")\n",
    "        valor=input(\"ingrese el valor\")\n",
    "#pedimos la clave y el balor con un input\n",
    "        tarjeta_personal[clave] = valor\n",
    "        #agregamos el valor y la clave al adiccionario\n",
    "        print(tarjeta_personal)\n",
    "\n",
    "    elif opcion == 2:\n",
    "    #con la condicion elif preguntamos si opcion es igual a dos\n",
    "        clave=input(\"ingrese la clave que quiere modificar\")\n",
    "        valor=input(\"ingrese el valor\")\n",
    "    #pedimos y el valor a modificar\n",
    "\n",
    "        tarjeta_personal[clave] = valor\n",
    "        print(tarjeta_personal) \n",
    "    #agregamos al diccionario e imprimimos\n",
    "    elif opcion == 3:\n",
    "#con la condicion elif preguntamos si opcion es igual a dos\n",
    "        clave_a_eleminar=input(\"ingrese la clave a eleminar\")\n",
    "        del tarjeta_personal[clave_a_eleminar]\n",
    "    #con la funcion del borramos la clave de nuestro diccionario \n",
    "        print(tarjeta_personal)\n",
    "\n",
    "    else:\n",
    "        break\n",
    "\n",
    "    opcion=int(input(\"ingrese la opcion\"))\n",
    "\n"
   ]
  },
  {
   "cell_type": "code",
   "execution_count": 11,
   "metadata": {},
   "outputs": [
    {
     "name": "stdout",
     "output_type": "stream",
     "text": [
      "1. Anhadir, 2. Modificar, 3. Eliminar\n",
      "{'nombre': 'jennifer'}\n",
      "1. Anhadir, 2. Modificar, 3. Eliminar\n",
      "{'nombre': 'jennifer', 'apellido ': 'mendez'}\n",
      "1. Anhadir, 2. Modificar, 3. Eliminar\n",
      "{'nombre': 'jennifer', 'apellido ': 'mendez', 'edad': '18'}\n",
      "1. Anhadir, 2. Modificar, 3. Eliminar\n",
      "{'nombre': 'jennifer', 'apellido ': 'mendez'}\n",
      "1. Anhadir, 2. Modificar, 3. Eliminar\n"
     ]
    },
    {
     "ename": "ValueError",
     "evalue": "invalid literal for int() with base 10: 'eddad'",
     "output_type": "error",
     "traceback": [
      "\u001b[0;31m---------------------------------------------------------------------------\u001b[0m",
      "\u001b[0;31mValueError\u001b[0m                                Traceback (most recent call last)",
      "\u001b[1;32m/Users/alexita/Desktop/bootcamp-14/dia4.ipynb Celda 12\u001b[0m in \u001b[0;36m<cell line: 5>\u001b[0;34m()\u001b[0m\n\u001b[1;32m      <a href='vscode-notebook-cell:/Users/alexita/Desktop/bootcamp-14/dia4.ipynb#X16sZmlsZQ%3D%3D?line=4'>5</a>\u001b[0m \u001b[39mwhile\u001b[39;00m \u001b[39mTrue\u001b[39;00m:\n\u001b[1;32m      <a href='vscode-notebook-cell:/Users/alexita/Desktop/bootcamp-14/dia4.ipynb#X16sZmlsZQ%3D%3D?line=5'>6</a>\u001b[0m     \u001b[39m#Imprimir las opciones a ser escogidas\u001b[39;00m\n\u001b[1;32m      <a href='vscode-notebook-cell:/Users/alexita/Desktop/bootcamp-14/dia4.ipynb#X16sZmlsZQ%3D%3D?line=6'>7</a>\u001b[0m     \u001b[39mprint\u001b[39m(\u001b[39m\"\u001b[39m\u001b[39m1. Anhadir, 2. Modificar, 3. Eliminar\u001b[39m\u001b[39m\"\u001b[39m)\n\u001b[0;32m----> <a href='vscode-notebook-cell:/Users/alexita/Desktop/bootcamp-14/dia4.ipynb#X16sZmlsZQ%3D%3D?line=7'>8</a>\u001b[0m     respuesta \u001b[39m=\u001b[39m \u001b[39mint\u001b[39;49m(\u001b[39minput\u001b[39;49m(\u001b[39m\"\u001b[39;49m\u001b[39mEscoje una opcion\u001b[39;49m\u001b[39m\"\u001b[39;49m))\n\u001b[1;32m     <a href='vscode-notebook-cell:/Users/alexita/Desktop/bootcamp-14/dia4.ipynb#X16sZmlsZQ%3D%3D?line=9'>10</a>\u001b[0m     \u001b[39m#Con el if, en caso de elegir 1, se solicita la clave y valor, para posteriormente anhadir en el diccionario\u001b[39;00m\n\u001b[1;32m     <a href='vscode-notebook-cell:/Users/alexita/Desktop/bootcamp-14/dia4.ipynb#X16sZmlsZQ%3D%3D?line=10'>11</a>\u001b[0m     \u001b[39mif\u001b[39;00m respuesta \u001b[39m==\u001b[39m \u001b[39m1\u001b[39m:\n",
      "\u001b[0;31mValueError\u001b[0m: invalid literal for int() with base 10: 'eddad'"
     ]
    }
   ],
   "source": [
    "#Creacion de diccionario vacio\n",
    "diccionario_vacio = {}\n",
    "\n",
    "#Creacion de bucle infinito\n",
    "while True:\n",
    "    #Imprimir las opciones a ser escogidas\n",
    "    print(\"1. Anhadir, 2. Modificar, 3. Eliminar\")\n",
    "    respuesta = int(input(\"Escoje una opcion\"))\n",
    "\n",
    "    #Con el if, en caso de elegir 1, se solicita la clave y valor, para posteriormente anhadir en el diccionario\n",
    "    if respuesta == 1:\n",
    "        dato_clave = input(\"Ingrese que dato desea anhadir\")\n",
    "        dato_valor = input(\"Ingrese el valor del dato\")\n",
    "        diccionario_vacio[dato_clave] = dato_valor\n",
    "        print(diccionario_vacio)   \n",
    "\n",
    "    #Con el elif, en caso de elegir 2, se solicita nuevamente la clave y el valor donde se desea modificar\n",
    "    elif respuesta == 2:\n",
    "        dato_clave = input(\"Ingrese que dato desea modificar\")\n",
    "        dato_valor = input(\"Ingrese el valor del dato\")\n",
    "\n",
    "        #Mini condicion con el if, donde se verifica si la clave ingresada existe en el diccionario\n",
    "        if dato_clave not in diccionario_vacio:\n",
    "            print(\"No se puede modificar porque no existe esa clave.\")\n",
    "            print(diccionario_vacio)\n",
    "\n",
    "        #Si es que existe, se modifica sin problema y se imprime\n",
    "        else:\n",
    "            diccionario_vacio[dato_clave] = dato_valor\n",
    "            print(diccionario_vacio)\n",
    "\n",
    "    #Con el elif, en caso de elegir 3, se solicita la clave a ser eliminada\n",
    "    elif respuesta == 3:\n",
    "        dato_clave = input(\"Ingrese el dato que desea eliminar\")\n",
    "\n",
    "        #Mini condicion donde se verifica si la clave ingresada existe en el diccionario\n",
    "        if dato_clave not in diccionario_vacio:\n",
    "            print(\"No se puede eliminar porque no existe esa clave.\")\n",
    "            print(diccionario_vacio)\n",
    "\n",
    "        #Si es que existe, se elimina sin problema\n",
    "        else:\n",
    "            del diccionario_vacio[dato_clave]\n",
    "            print(diccionario_vacio)\n",
    "    \n",
    "    #Si no llega a elegir 1, 2 o 3, se cierra el bucle.\n",
    "    else:\n",
    "        break\n"
   ]
  },
  {
   "cell_type": "markdown",
   "metadata": {},
   "source": [
    "# Programacion Orientada a Objetos (POO) en python "
   ]
  },
  {
   "cell_type": "markdown",
   "metadata": {},
   "source": [
    "Programacion orientada a objetos sirve para representar \n",
    "\n",
    "- clase = como un molde a partir del cual se derivan los diferentes  objetos. Ejemplo: class Mascota \n",
    "- atributos = son caracteristicas y pueden ser de dos tipos (1) de clase: comunes entre todos los objetos y (2) de instancia: que son particulares a cada objeto\n",
    "- metodos = basicamente son acciones que se definen en la clase \n",
    "  \n",
    "**Los atributos pueden ser:** \n",
    "\n",
    "- **Atributos de clase:** Son atributos cuyos valores definen a la clase, por lo tanto serán comunes para todos los objetos. (Mostrar el que ya teníamos arriba)\n",
    "\n",
    "- **Atributos de instancia:** Son atributos cuyos valores son específicos de los objetos creados (la instancia). En nuestro caso, de ambas mascotas tiene el atributo `nombre`, pero cada una tiene un valor diferente, que se define al crear el objeto. (Mostrar los de instancia)"
   ]
  },
  {
   "cell_type": "code",
   "execution_count": 16,
   "metadata": {},
   "outputs": [
    {
     "name": "stdout",
     "output_type": "stream",
     "text": [
      "2\n",
      "2\n",
      "<__main__.Mascota object at 0x10f91cfa0>\n",
      "Mi nombre es oliver y tengo numero 2ojos\n"
     ]
    }
   ],
   "source": [
    "#crear mi clase Mascota por medio de la palabra reservada class \n",
    "class Mascota: \n",
    "    ojos = 2 # atributo de clase \n",
    "    boca = 1 # atributo de clase \n",
    "    patas = 4 # atributo de clase \n",
    "# metodo constructor __init__ y un parametro especial self \n",
    "    def __init__(self, nombre, raza, color): #inicializa la clase y le asignamos atributos de instancia \n",
    "        self.nombre = nombre\n",
    "        self.raza = raza\n",
    "        self.color = color \n",
    "# crear mi objeto/os \n",
    "\n",
    "mi_gato = Mascota(\"solovino\", \"siames\", \"negro\") #creo mi objeto y le paso atributos especificos de instancia \n",
    "mi_perro = Mascota(\"oliver\", \"labrador\", \"amarillo\")\n",
    "#creo mi objeto perro y le paso mis atributos de instancia \n",
    "\n",
    "\n",
    "\n",
    "print(mi_gato.ojos) \n",
    "print(mi_perro.ojos)\n",
    "print(mi_gato)\n",
    "\n",
    "#hola mi nombre es {nombre} y tengo numero de ojos. Observacion trabajar con el objeto mi_perro \n",
    "\n",
    "print(f\"Mi nombre es {mi_perro.nombre} y tengo numero {mi_perro.ojos}ojos\")\n"
   ]
  },
  {
   "cell_type": "markdown",
   "metadata": {},
   "source": [
    "## Challenge \n",
    "\n",
    "Crear dos class de animales que tengan atributos de clase y de instancia.\n",
    "\n",
    "- Atributos de clase: `especie`.\n",
    "- Atributos de instancia: `nombre` & `color`.\n",
    "Luego, crear nuevos objetos a partir de las nuevas class. Imprimir el nombre y el color de los animales en una frase que diga: \"Me llamo `{nombre}` y soy un ave de color `{color}`\"."
   ]
  },
  {
   "cell_type": "code",
   "execution_count": 17,
   "metadata": {},
   "outputs": [
    {
     "name": "stdout",
     "output_type": "stream",
     "text": [
      "Me llamo Buhin y soy de color marron\n"
     ]
    }
   ],
   "source": [
    "class Ave:\n",
    "    ojos = 2\n",
    "    boca = 1\n",
    "    especie = \"Buho\"\n",
    "\n",
    "    def __init__(self, nombre, color):\n",
    "        self.nombre = nombre\n",
    "        self.color = color\n",
    "\n",
    "mi_ave = Ave('Buhin', 'marron')\n",
    "print(f\"Me llamo {mi_ave.nombre} y soy de color {mi_ave.color}\")"
   ]
  },
  {
   "cell_type": "code",
   "execution_count": 18,
   "metadata": {},
   "outputs": [
    {
     "name": "stdout",
     "output_type": "stream",
     "text": [
      "Rottweiler\n",
      "Comun Europeo\n"
     ]
    }
   ],
   "source": [
    "# Creacion de las claces\n",
    "\n",
    "#definimos la clase animal\n",
    "class Animal:\n",
    "    especie = \"Cocker\"\n",
    "    nombre = \"Conan\"\n",
    "    # definimos el constructor\n",
    "    def __init__ (self,especie, nombre, color, peso):\n",
    "        self.especie = especie \n",
    "        self.nombre = nombre\n",
    "        self.color   = color\n",
    "        self.peso    = peso\n",
    "\n",
    "mi_perro = Animal(\"Rottweiler\",\"Django\",\"Negro con Cafe\", 65)\n",
    "mi_gato = Animal(\"Comun Europeo\", \"Chester\", \"Negro\", 8)\n",
    "\n",
    "print(mi_perro.especie)\n",
    "print(mi_gato.especie)"
   ]
  },
  {
   "cell_type": "markdown",
   "metadata": {},
   "source": [
    "# Definiendo metodos\n",
    "En realidad ya trabajamos con metodos cuando usamos anteriormente __init__, este metodo se ejecuta al momento de crear un objeto. \n",
    "\n",
    "Ahora vamos a crear nuestros propios metodos = funcionalidades/acciones que queremos definir \n",
    "\n",
    "Recordar: los metodos dan funcionalidad a los objetos"
   ]
  },
  {
   "cell_type": "code",
   "execution_count": 20,
   "metadata": {},
   "outputs": [
    {
     "name": "stdout",
     "output_type": "stream",
     "text": [
      "Estoy caminando\n",
      "Comi tantos 200 kilogramos de hamburguesa\n"
     ]
    }
   ],
   "source": [
    "class Mascota: #creamos la clase mascota \n",
    "    ojos = 2 # atributo de clase \n",
    "    \n",
    "    def __init__(self, nombre): #init inicializa la clase atributo de instancia\n",
    "        self.nombre = nombre \n",
    "        #funcion sin definir parametros y argumentos \n",
    "\n",
    "    def caminar(self): # funcion a la que no le pasamos parametros y argumentos \n",
    "        print(\"Estoy caminando\")\n",
    "    \n",
    "    def comer(self, kg_comida, comida): #funcion con parametros y argumentos\n",
    "        print(f\"Comi tantos {kg_comida} kilogramos de {comida}\")\n",
    "    \n",
    "    #crear nuestros objetos \n",
    "\n",
    "mi_mascota_gato = Mascota(\"Paco\") # creando el objeto mi_mascota_gato\n",
    "#accedemos al metodo creado \n",
    "\n",
    "mi_mascota_gato.caminar() #esto es una funcion sin parametro y argumento \n",
    "mi_mascota_gato.comer(200,\"hamburguesa\") #le pase los argumentos a mi funcion que recibia dos parametros que son kg_comida y comida\n",
    "\n"
   ]
  },
  {
   "cell_type": "markdown",
   "metadata": {},
   "source": [
    "## Challenge\n",
    "Crear dos métodos por animal, que sea hablar y moverse.\n",
    "\n",
    "En el método hablar, imprimir: \"Cuando hablo, digo X\".\n",
    "En el método mover, imprimir: \"Cuando me muevo, hago X\".\n",
    "\n",
    "X debe ser algo específico de ese animal"
   ]
  },
  {
   "cell_type": "code",
   "execution_count": 21,
   "metadata": {},
   "outputs": [
    {
     "name": "stdout",
     "output_type": "stream",
     "text": [
      "Cuando hablo hago guau guau\n",
      "cuando corro me muevo y si me muevo corro\n"
     ]
    }
   ],
   "source": [
    "class Mascota:\n",
    "    patas = 2\n",
    "    ojos = 2\n",
    "    boca = 1\n",
    "    def __init__(self, nombre):\n",
    "        self.nombre = nombre\n",
    "    def hablar(self, ruido):\n",
    "        print(f\"Cuando hablo hago {ruido}\")\n",
    "    \n",
    "    def mover(self, desplazamiento):\n",
    "        print(f\"cuando {desplazamiento} me muevo y si me muevo {desplazamiento}\")\n",
    "\n",
    "mi_perro = Mascota(\"Bestia\")\n",
    "\n",
    "mi_perro.hablar(\"guau guau\")\n",
    "mi_perro.mover(\"corro\")"
   ]
  },
  {
   "cell_type": "markdown",
   "metadata": {},
   "source": [
    "# Herencia \n",
    "\n",
    "- Esto no es una herencia como tal, no heredamos una casa, dinero, etc, basicamente indica una relacion entre las clases \n",
    "- Herencia representa que una clase hereda los atributos y metodos de otra clase \n",
    "- Dado que la clase hija hereda lso atributos y metodos del padre, nos puede ser util cuando tengamos clases que se parecen entre si pero tienen ciertas particularidades \n",
    "  "
   ]
  },
  {
   "cell_type": "code",
   "execution_count": 25,
   "metadata": {},
   "outputs": [
    {
     "name": "stdout",
     "output_type": "stream",
     "text": [
      "verde\n",
      "tsssssssss\n",
      "amarillito\n",
      "Hola soy un reptil\n"
     ]
    }
   ],
   "source": [
    "#Ahora trabajaremos la relacion entre clases \n",
    "\n",
    "class Reptil: #creando la clase \n",
    "    tipo = \"reptil sangre fria\" #atributo de clase \n",
    "    def __init__(self, color, sonido): #atributo de instancia color y sonido\n",
    "        self.color = color\n",
    "        self.sonido = sonido \n",
    "        #creo un metodo generico hablar \n",
    "    def hablar(self):\n",
    "        print(\"Hola soy un reptil\")\n",
    "\n",
    "#ahora entra el concepto de herencia \n",
    "class Serpiente(Reptil): #la clase madre es Reptil y la clase serpiente hereda de Reptil sus atributos y metodos \n",
    "    veneno = True\n",
    "    def arrastrarse(self): #defino una funcion sin parametro y argumento\n",
    "        print(\"Holis me estoy arrastrando\")\n",
    "\n",
    "#creando mis objetos \n",
    "\n",
    "mi_reptil = Reptil(\"verde\", \"tsssssssss\")\n",
    "print(mi_reptil.color) #accediendo a color y sonido \n",
    "print(mi_reptil.sonido)\n",
    "\n",
    "mi_viborita = Serpiente(\"amarillito\", \"zzzzzz\")\n",
    "print(mi_viborita.color)\n",
    "\n",
    "mi_viborita.hablar()\n",
    "\n",
    "\n",
    "\n"
   ]
  },
  {
   "cell_type": "markdown",
   "metadata": {},
   "source": [
    "## Challenge \n",
    "Definir una clase madre que herede a sus clases hijas dos atributos de instancia. Mostrar ambos atributos en pantalla desde los objetos de las clases hijas.\n",
    "\n",
    "Observación: Editar las clases hijas para que no se inicialicen."
   ]
  }
 ],
 "metadata": {
  "kernelspec": {
   "display_name": "Python 3.10.4 64-bit",
   "language": "python",
   "name": "python3"
  },
  "language_info": {
   "codemirror_mode": {
    "name": "ipython",
    "version": 3
   },
   "file_extension": ".py",
   "mimetype": "text/x-python",
   "name": "python",
   "nbconvert_exporter": "python",
   "pygments_lexer": "ipython3",
   "version": "3.10.4"
  },
  "orig_nbformat": 4,
  "vscode": {
   "interpreter": {
    "hash": "aee8b7b246df8f9039afb4144a1f6fd8d2ca17a180786b69acc140d282b71a49"
   }
  }
 },
 "nbformat": 4,
 "nbformat_minor": 2
}
