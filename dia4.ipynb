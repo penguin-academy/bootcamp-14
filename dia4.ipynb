{
 "cells": [
  {
   "cell_type": "markdown",
   "metadata": {},
   "source": [
    "# Diccionarios"
   ]
  },
  {
   "cell_type": "markdown",
   "metadata": {},
   "source": [
    "Un diccionario es una coleccion de pares formados por una clave y un valor asociado a la clave. \n",
    "Se construyen poniendo los pares entre { } llaves separados por comas, y separando la clave del valor con dos puntos : \n"
   ]
  },
  {
   "cell_type": "code",
   "execution_count": 7,
   "metadata": {},
   "outputs": [
    {
     "name": "stdout",
     "output_type": "stream",
     "text": [
      "{'heladera': 'james', 'microondas': 'midas', 'cafetera': 'juan valdez'}\n",
      "{'mesas': 'madera', 'sillas': 'oficina', 'pizarra': 'acrilica'}\n",
      "james\n",
      "midas\n",
      "{'heladera': 'tokio', 'microondas': 'midas', 'cafetera': 'juan valdez'}\n",
      "{'heladera': 'tokio', 'microondas': 'midas', 'cafetera': 'juan valdez', 'platos': 'ceramica'}\n",
      "{'heladera': 'tokio', 'microondas': 'midas', 'cafetera': 'juan valdez'}\n",
      "{'microondas': 'midas', 'cafetera': 'juan valdez'}\n"
     ]
    }
   ],
   "source": [
    "# Trabajamos con diccionarios \n",
    "\n",
    "diccionario_vacio = {} # esto es un diccionario vacio, no tiene nada entre las llaves \n",
    "\n",
    "mi_cafeteria = {\"heladera\": \"james\" , \"microondas\": \"midas\", \"cafetera\": \"juan valdez\"}\n",
    "\n",
    "mi_aulacita = {\"mesas\": \"madera\", \"sillas\": \"oficina\", \"pizarra\" :\"acrilica\"}\n",
    "\n",
    "print(mi_cafeteria)\n",
    "print(mi_aulacita)\n",
    "\n",
    "# acceder a los elementos  de un diccionario \n",
    "# accedimos al valor heladera por medio de la clave heladera \n",
    "\n",
    "print(mi_cafeteria[\"heladera\"])\n",
    "\n",
    "print(mi_cafeteria[\"microondas\"])\n",
    "\n",
    "#otra marca de heladera tokio vamos a hacer una actualizacion o reasignacion \n",
    "\n",
    "mi_cafeteria[\"heladera\"] = \"tokio\"\n",
    "\n",
    "print(mi_cafeteria)\n",
    "\n",
    "#Anhadir datos a un diccionario \n",
    "\n",
    "mi_cafeteria[\"platos\"] = \"ceramica\"\n",
    "print(mi_cafeteria)\n",
    "\n",
    "#eliminar pares de valores del final \n",
    "\n",
    "mi_cafeteria.popitem()\n",
    "print(mi_cafeteria)\n",
    "\n",
    "#eliminar por medio de la clave: es la palabra de referencia al valor \n",
    "\n",
    "del mi_cafeteria[\"heladera\"] # porque queremos eliminar heladera y su valor \n",
    "print(mi_cafeteria)\n",
    "\n",
    "\n",
    "\n",
    "\n"
   ]
  },
  {
   "cell_type": "markdown",
   "metadata": {},
   "source": [
    "## Challenge 1 \n",
    "Escribir un programa que cree un diccionario vacío y lo vaya llenado con información sobre una persona (por ejemplo nombre, edad, teléfono, correo electrónico, etc. pueden agregar lo que quieran) que se le pida al usuario. Cada vez que se añada un nuevo dato debe imprimirse el contenido del diccionario."
   ]
  },
  {
   "cell_type": "code",
   "execution_count": null,
   "metadata": {},
   "outputs": [],
   "source": []
  }
 ],
 "metadata": {
  "kernelspec": {
   "display_name": "Python 3.10.4 64-bit",
   "language": "python",
   "name": "python3"
  },
  "language_info": {
   "codemirror_mode": {
    "name": "ipython",
    "version": 3
   },
   "file_extension": ".py",
   "mimetype": "text/x-python",
   "name": "python",
   "nbconvert_exporter": "python",
   "pygments_lexer": "ipython3",
   "version": "3.10.4"
  },
  "orig_nbformat": 4,
  "vscode": {
   "interpreter": {
    "hash": "aee8b7b246df8f9039afb4144a1f6fd8d2ca17a180786b69acc140d282b71a49"
   }
  }
 },
 "nbformat": 4,
 "nbformat_minor": 2
}
