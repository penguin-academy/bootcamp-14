{
 "cells": [
  {
   "cell_type": "markdown",
   "metadata": {},
   "source": [
    "# Challenge \n",
    "\n",
    "- Crear una función que imprima la variable palabra sin parametros y argumentos "
   ]
  },
  {
   "cell_type": "code",
   "execution_count": 1,
   "metadata": {},
   "outputs": [
    {
     "name": "stdout",
     "output_type": "stream",
     "text": [
      "Al principio de los tiempos , existian Dios y la palabra, la palabra estaba con Dios y la palabra era Dios\n"
     ]
    }
   ],
   "source": [
    "def Juan_1_1():\n",
    "    palabra= \"Al principio de los tiempos , existian Dios y la palabra, la palabra estaba con Dios y la palabra era Dios\"\n",
    "    print(palabra)\n",
    "Juan_1_1()"
   ]
  },
  {
   "cell_type": "markdown",
   "metadata": {},
   "source": [
    "## Challenge \n",
    "Crear una función que reciba dos parámetros (una palabra y una frase), y que imprima la frase y la palabra concatenadas. \n",
    "\n",
    "Ejemplo del print que buscamos: La frase es {frase} y la palabra es {palabra}\n",
    "\n",
    "- Pedir al usuario la frase y palabra \n"
   ]
  },
  {
   "cell_type": "code",
   "execution_count": 2,
   "metadata": {},
   "outputs": [
    {
     "name": "stdout",
     "output_type": "stream",
     "text": [
      "La frase es ensalada de fruta y la palabra es fruta\n"
     ]
    }
   ],
   "source": [
    "def texto(palabra, frase):\n",
    "    print(f\"La frase es {frase} y la palabra es {palabra}\")\n",
    "texto(input(\"Elija su Palabra\"), input(\"Elija su Frase\"))"
   ]
  },
  {
   "cell_type": "code",
   "execution_count": 3,
   "metadata": {},
   "outputs": [
    {
     "name": "stdout",
     "output_type": "stream",
     "text": [
      "La frase es el origen de tu poder etc etc  la palabra es estoicismo\n"
     ]
    }
   ],
   "source": [
    "def Seneca():\n",
    "    frase=input(\"Ingrese frase de Seneca\")\n",
    "    palabra=input(\"ingrese la palabra Estoicismo\")\n",
    "    print(\"La frase es\",frase,\"la palabra es\",palabra)\n",
    "Seneca() \n",
    "#El origen de tu poder es mi miedo , yo no tengo miedo , tu ya no tienes poder\n",
    "#Estoicismo"
   ]
  },
  {
   "cell_type": "markdown",
   "metadata": {},
   "source": [
    "# Funciones con return \n",
    "\n"
   ]
  },
  {
   "cell_type": "markdown",
   "metadata": {},
   "source": [
    "- **return** es una palabra reservada que se utiliza para cortar la ejecucion de una funcion o bloque de codigo  \n",
    "- si una sentencia comienza con return se especifica que el valor se va a retornar \n",
    " "
   ]
  },
  {
   "cell_type": "code",
   "execution_count": 4,
   "metadata": {},
   "outputs": [
    {
     "name": "stdout",
     "output_type": "stream",
     "text": [
      "300\n"
     ]
    }
   ],
   "source": [
    "\n",
    "# Hacer un programa que sea una funcion que reciba dos parametros que sean son numeros y que realiza una suma e imprima el resultado de esa suma \n",
    "\n",
    "def sumar_numeros(numero1,numero2): # defino el nombre de la funcion y la cantidad de parametros a recibir \n",
    "    sumar = numero1 + numero2 #establecer las instrucciones que son el cuerpo de la funcion\n",
    "    print(sumar) #realizamos un print \n",
    "sumar_numeros(200,100)  #llamamos a la funcion \n",
    "\n"
   ]
  },
  {
   "cell_type": "code",
   "execution_count": 14,
   "metadata": {},
   "outputs": [
    {
     "name": "stdout",
     "output_type": "stream",
     "text": [
      "13\n",
      "None\n"
     ]
    },
    {
     "ename": "TypeError",
     "evalue": "unsupported operand type(s) for +: 'int' and 'NoneType'",
     "output_type": "error",
     "traceback": [
      "\u001b[0;31m---------------------------------------------------------------------------\u001b[0m",
      "\u001b[0;31mTypeError\u001b[0m                                 Traceback (most recent call last)",
      "\u001b[1;32m/Users/alexita/Desktop/bootcamp-14/dia3.ipynb Celda 9\u001b[0m in \u001b[0;36m<cell line: 11>\u001b[0;34m()\u001b[0m\n\u001b[1;32m      <a href='vscode-notebook-cell:/Users/alexita/Desktop/bootcamp-14/dia3.ipynb#X14sZmlsZQ%3D%3D?line=7'>8</a>\u001b[0m nuevo_llamado \u001b[39m=\u001b[39m calculadora(\u001b[39m11\u001b[39m,\u001b[39m2\u001b[39m) \u001b[39m#hacemos un nuevo llamado y guaradamos el valor en una variable \u001b[39;00m\n\u001b[1;32m      <a href='vscode-notebook-cell:/Users/alexita/Desktop/bootcamp-14/dia3.ipynb#X14sZmlsZQ%3D%3D?line=8'>9</a>\u001b[0m \u001b[39mprint\u001b[39m(nuevo_llamado)  \n\u001b[0;32m---> <a href='vscode-notebook-cell:/Users/alexita/Desktop/bootcamp-14/dia3.ipynb#X14sZmlsZQ%3D%3D?line=10'>11</a>\u001b[0m nueva_suma \u001b[39m=\u001b[39m \u001b[39m2\u001b[39;49m \u001b[39m+\u001b[39;49m nuevo_llamado\n\u001b[1;32m     <a href='vscode-notebook-cell:/Users/alexita/Desktop/bootcamp-14/dia3.ipynb#X14sZmlsZQ%3D%3D?line=11'>12</a>\u001b[0m \u001b[39mprint\u001b[39m(nueva_suma)\n",
      "\u001b[0;31mTypeError\u001b[0m: unsupported operand type(s) for +: 'int' and 'NoneType'"
     ]
    }
   ],
   "source": [
    "# Hacer un programa que sea una funcion que realice una suma y al resultado de la funcion (producto de la funcion) le sumamos el numero 2 \n",
    "\n",
    "def calculadora(numero_uno, numero_dos):\n",
    "    resultado = numero_uno + numero_dos \n",
    "    return resultado  \n",
    "   # return True \n",
    "    # return se utiliza dentro del cuerpo de la funcion \n",
    "#calculadora(5,10)\n",
    "\n",
    "nuevo_llamado = calculadora(11,2) #hacemos un nuevo llamado y guaradamos el valor en una variable \n",
    "print(nuevo_llamado)  \n",
    "\n",
    "nueva_suma = 2 + nuevo_llamado\n",
    "print(nueva_suma)\n"
   ]
  },
  {
   "cell_type": "markdown",
   "metadata": {},
   "source": [
    "# Diferencias entre return y print \n",
    "\n",
    "- lo que return devuelve/ retorna / entrega puede ser utilizado en otra seccion de codigo se puede utilizar fuera de la funcion \n",
    "\n",
    "- el print sirve para visualizar solo muestra en pantalla, no devuelve un valor reutilizable "
   ]
  },
  {
   "cell_type": "markdown",
   "metadata": {},
   "source": [
    "# Challenge \n",
    "\n",
    "Crear una función que reciba dos letras (parámetros) y que verifique si son iguales:\n",
    "\n",
    "1. Si son iguales, retornar True \n",
    "\n",
    "2. De lo contrario, retornar False "
   ]
  },
  {
   "cell_type": "code",
   "execution_count": null,
   "metadata": {},
   "outputs": [],
   "source": [
    "#como verifico que son iguales dos cosas? if x == y \n",
    "# return True \n",
    "# return False"
   ]
  },
  {
   "cell_type": "markdown",
   "metadata": {},
   "source": [
    "## Challenge \n",
    "\n",
    "Crear una función que reciba dos parámetros (una palabra y un número), y que devuelva `True` si el número es igual a la cantidad de letras de la palabra. En caso contrario, que devuelva `False`.\n",
    "\n",
    "Pista: `cantidad de letras de una palabra en python se puede obtener con len()`"
   ]
  },
  {
   "cell_type": "code",
   "execution_count": null,
   "metadata": {},
   "outputs": [],
   "source": []
  },
  {
   "cell_type": "markdown",
   "metadata": {},
   "source": [
    "## Challenge \n",
    "\n",
    "Crear función que revise si una palabra contiene una letra. En caso de que la contenga, retornar la letra entre corchetes `[]`. De lo contrario, retornar solo la letra. \n",
    "\n",
    "- Pista: letra con corchete [a] \n",
    "- Pista recuerden que existe concatenacion \n",
    "- Retornar signifca que tenemos que utilizar return \n",
    "- Pista: letra sin corchetes a \n"
   ]
  },
  {
   "cell_type": "code",
   "execution_count": null,
   "metadata": {},
   "outputs": [],
   "source": []
  },
  {
   "cell_type": "markdown",
   "metadata": {},
   "source": [
    "# Funciones built-in: list() "
   ]
  },
  {
   "cell_type": "markdown",
   "metadata": {},
   "source": [
    "- list nos sirve para convertir palabras en una lista \n",
    "- sintaxis:  print(list(\"hombre\")) convertimos la palabra hombre en una lista con esta funcion y utilizamos print para visualizar "
   ]
  },
  {
   "cell_type": "code",
   "execution_count": 15,
   "metadata": {},
   "outputs": [
    {
     "name": "stdout",
     "output_type": "stream",
     "text": [
      "Alexandra\n",
      "['A', 'l', 'e', 'x', 'a', 'n', 'd', 'r', 'a']\n"
     ]
    }
   ],
   "source": [
    "palabra_a_convertir = \"Alexandra\"\n",
    "print(palabra_a_convertir)\n",
    "\n",
    "lista_nueva_alex = list(palabra_a_convertir)\n",
    "print(lista_nueva_alex)\n"
   ]
  },
  {
   "cell_type": "markdown",
   "metadata": {},
   "source": [
    "### Challenge \n",
    "\n",
    "Pedir al usuario que ingrese 1 palabra, luego convertir esa palabra a una lista con sus caracteres con `list()`. Agregar esa lista de caracteres a una lista llamada `palabras_ingresadas`. Repetir el proceso 3 veces. Cada vez que se agregue una lista de caracteres, imprimir la lista `palabras_ingresadas`.\n",
    "\n",
    "\n",
    "Ejemplo del resultado esperado:\n",
    "\n",
    "```[['c', 'i', 'e', 'l', 'o']]``` # Al ingresar la primera palabra\n",
    "\n",
    "```[['c', 'i', 'e', 'l', 'o'], ['c', 'a', 'l', 'o', 'r']]``` # Al ingresar la segunda palabra\n",
    "\n",
    "```[['c', 'i', 'e', 'l', 'o'], ['c', 'a', 'l', 'o', 'r'], ['n', 'u', 'b', 'e', 's']]``` # Al ingresar la tercera palabra"
   ]
  },
  {
   "cell_type": "code",
   "execution_count": null,
   "metadata": {},
   "outputs": [],
   "source": [
    "# pedir al usuario, podemos usar un input()\n",
    "# tomar la variable que guarda el valor del input y aplicar la funcion list()\n",
    "# palabras_ingresadas = [] y agregar las nuevas listas a esta lista \n",
    "# metodos para agregar las listas a la lista vacia que es palabras_ingresadas  pista --> append\n",
    "\n",
    "\n",
    "\n"
   ]
  },
  {
   "cell_type": "code",
   "execution_count": null,
   "metadata": {},
   "outputs": [],
   "source": []
  },
  {
   "cell_type": "markdown",
   "metadata": {},
   "source": [
    "## Challenge Funcion verificadora.\n",
    "## Ya el corazon del wordle.\n",
    "Acercandonos un poco más a nuestro juego, vamos a ver cual es el proceso cada vez que se ingresa una palabra\n",
    "\n",
    "Crear una lista vacía letras_verificadas para las letras de la palabra luego de ser verificada\n",
    "Definir la cantidad de letras de la palabra a encontrar\n",
    "Si las letras existen en la palabra a encontrar y sus posiciones coinciden: encerrar en corchetes [] y agregar al resultado\n",
    "Si las letras existen en la palabra a encontrar pero sus posiciones no coinciden: encerrar en parentesis () y agregar al resultado\n",
    "Si no se cumple ninguna de las anteriores, agregar la letra a la lista vacía sin modificaciones\n",
    "Retornar el resultado"
   ]
  },
  {
   "cell_type": "code",
   "execution_count": null,
   "metadata": {},
   "outputs": [],
   "source": []
  },
  {
   "cell_type": "markdown",
   "metadata": {},
   "source": [
    "# Challenge cantidad de intentos\n",
    "\n",
    "Crear un bucle en el que se le pida al usuario ingresar una palabra e imprimirla, hasta que se le acaben los intentos (6). \n",
    "\n",
    "Pista: se utiliza un ciclo while (igual al ejercicio que ya resolvimos mirar apuntes)"
   ]
  }
 ],
 "metadata": {
  "kernelspec": {
   "display_name": "Python 3.10.4 64-bit",
   "language": "python",
   "name": "python3"
  },
  "language_info": {
   "codemirror_mode": {
    "name": "ipython",
    "version": 3
   },
   "file_extension": ".py",
   "mimetype": "text/x-python",
   "name": "python",
   "nbconvert_exporter": "python",
   "pygments_lexer": "ipython3",
   "version": "3.10.4"
  },
  "orig_nbformat": 4,
  "vscode": {
   "interpreter": {
    "hash": "aee8b7b246df8f9039afb4144a1f6fd8d2ca17a180786b69acc140d282b71a49"
   }
  }
 },
 "nbformat": 4,
 "nbformat_minor": 2
}
