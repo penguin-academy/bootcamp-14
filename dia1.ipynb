{
 "cells": [
  {
   "cell_type": "markdown",
   "metadata": {},
   "source": [
    "# Mi primer encuentro con Python\n",
    "\n",
    "- Hagamos un Hola Mundo\n",
    "\n",
    "\n",
    "\n",
    "\n"
   ]
  },
  {
   "cell_type": "code",
   "execution_count": 10,
   "metadata": {},
   "outputs": [
    {
     "name": "stdout",
     "output_type": "stream",
     "text": [
      "Hola Mundo\n"
     ]
    }
   ],
   "source": [
    "print(\"Hola Mundo\") \n",
    "# esta linea no se ejecuta es un comentario\n"
   ]
  },
  {
   "cell_type": "markdown",
   "metadata": {},
   "source": [
    "# Variables \n",
    "\n",
    "Las variables son espacios en la memoria de la computadora en los cuales podemos guardar datos durante la ejecucion de nuestro programa. \n",
    "\n",
    "A estos espacios de memoria les podemos poner nombres por medio de los cuales podemos acceder mas tarde. \n",
    "\n",
    "Entre las buenas practicas para nombras las variables tenemos: \n",
    "\n",
    "- usar minusculas \n",
    "- separar las palabras con guiones evitando espacios \n",
    "- no usar palabras reservadas como nombres de variables\n",
    "- a la forma de nombrar variables en python se le llama snake_case \n",
    "- evitar usar simbolos al establecer nombres de variables\n",
    "\n",
    "\n",
    "\n"
   ]
  },
  {
   "cell_type": "code",
   "execution_count": 20,
   "metadata": {},
   "outputs": [
    {
     "name": "stdout",
     "output_type": "stream",
     "text": [
      "Mbaeichapa\n",
      "Hola Mundo\n"
     ]
    }
   ],
   "source": [
    "# variables \n",
    "\n",
    "saludo = \"Mbaeichapa\" #la variable saludo toma el valor Mbaeichapa \n",
    "print(saludo) \n",
    "saludo = \"Hola Mundo\" #se reasigna un valor nuevo a la variable\n",
    "print(saludo)\n",
    "\n"
   ]
  },
  {
   "cell_type": "markdown",
   "metadata": {},
   "source": [
    "# Orden de ejecucion \n",
    "\n",
    "Observacion: La ejecucion se da linea por linea\n",
    "\n",
    "Todos los comandos se ejecutan en el orden en que se escriben"
   ]
  },
  {
   "cell_type": "markdown",
   "metadata": {},
   "source": [
    "# Tipos de datos \n",
    "\n",
    "- Dato tipo texto \n",
    "- Dato tipo numerico entero y decimal \n",
    "- Boolean"
   ]
  },
  {
   "cell_type": "code",
   "execution_count": 19,
   "metadata": {},
   "outputs": [
    {
     "name": "stdout",
     "output_type": "stream",
     "text": [
      "10\n",
      "2.3\n",
      "Despensa Lali\n",
      "<class 'int'>\n",
      "<class 'str'>\n",
      "<class 'bool'>\n",
      "False\n",
      "<class 'int'>\n"
     ]
    }
   ],
   "source": [
    "numero_1 = 1 # tipo de datos numerico \n",
    "\n",
    "nombre_depensa = 'Despensa Lali' #dato tipo texto comillas sea simple o doble string --> str\n",
    "\n",
    "cantidad_unitaria_frutas = 10 # enteros integer --> int \n",
    "peso_de_frutas = 2.300 #gramos de sandia numero decimal --> float \n",
    "\n",
    "tienda_abierta_miercoles = True # Boolean --> bool \n",
    "tienda_abierta_feriado = False # Boolean --> bool \n",
    "\n",
    "print(cantidad_unitaria_frutas)\n",
    "print(peso_de_frutas)\n",
    "print(nombre_depensa)\n",
    "\n",
    "print(type(cantidad_unitaria_frutas))\n",
    "print(type(nombre_depensa))\n",
    "#Consigna imprimir el tipo de variable \n",
    "print(type(tienda_abierta_feriado))\n",
    "print(tienda_abierta_feriado)\n",
    "print(type(30))\n",
    "\n"
   ]
  },
  {
   "cell_type": "markdown",
   "metadata": {},
   "source": [
    "# Mini challenge\n",
    "\n",
    "Escribir una variable nombre_companhero y asignar el nombre del companhero de al lado. E imprimir "
   ]
  },
  {
   "cell_type": "code",
   "execution_count": 21,
   "metadata": {},
   "outputs": [
    {
     "name": "stdout",
     "output_type": "stream",
     "text": [
      "Angel Barreto\n"
     ]
    }
   ],
   "source": [
    "nombre_companhero = \"Angel Barreto\"\n",
    "print(nombre_companhero)"
   ]
  },
  {
   "cell_type": "markdown",
   "metadata": {},
   "source": [
    "# Operadores aritmeticos - con y sin variables\n",
    "\n",
    "- Python permite realizar operaciones matematicas como una calculadora y para visualizar usamos print()"
   ]
  },
  {
   "cell_type": "code",
   "execution_count": 35,
   "metadata": {},
   "outputs": [
    {
     "name": "stdout",
     "output_type": "stream",
     "text": [
      "25\n",
      "10\n",
      "5.0\n",
      "5\n",
      "5\n",
      "3\n",
      "3\n",
      "16\n",
      "10\n"
     ]
    }
   ],
   "source": [
    "print(5 * 5) # esto es una multiplicacion \n",
    "print(5 + 5) # esto es una suma \n",
    "print(10 / 2 ) # esto es una division \n",
    "print(10 // 2 ) # esta es una division entera \n",
    "print(10-5) #esta es una resta \n",
    "\n",
    "primer_numero = 5 + 5\n",
    "segundo_numero = 13 \n",
    "\n",
    "print(segundo_numero - primer_numero) \n",
    "\n",
    "resultado_resta = segundo_numero - primer_numero\n",
    "\n",
    "print(resultado_resta)\n",
    "\n",
    "# Python obedece a la regla de matematica de la precedencia de operadores \n",
    "\n",
    "# Ejemplo de precedencia de operadores \n",
    "\n",
    "print((2+2)*4) # con parentesis se modifica el orden de las operaciones el resultado es 16\n",
    "\n",
    "print(2+2*4) # el resultado es 10\n"
   ]
  },
  {
   "cell_type": "code",
   "execution_count": 36,
   "metadata": {},
   "outputs": [
    {
     "name": "stdout",
     "output_type": "stream",
     "text": [
      "33000\n"
     ]
    }
   ],
   "source": [
    "# Despensa Lali quiere un programa que le calcule el precio \n",
    "\n",
    "# Ejemplo de programa requerido que calcule el gasto de la compra en la despensa \n",
    "# Dato general = Jorge va a la despensa y compra zanahorias mas papas cuanto gasta \n",
    "\n",
    "precio_zanahoria = 15000 \n",
    "precio_papas = 18000 \n",
    "\n",
    "gasto_total = precio_zanahoria + precio_papas\n",
    "\n",
    "print(gasto_total)\n"
   ]
  },
  {
   "cell_type": "markdown",
   "metadata": {},
   "source": [
    "## Challenge \n",
    "\n",
    "Suma: asignar dos números en dos variables diferentes `cantidad_de_manzanas` y `cantidad_de_naranjas`. Luego sumar ambas variables en `cantidad_de_frutas`. Imprimir la última variable.\n",
    "\n",
    "Resta: asignar un valor numérico a la variable `frutas_vendidas`. Luego, asignar la resta entre `cantidad_de_frutas` y `frutas_vendidas` a la variable `frutas_restantes`. Imprimir la última variable."
   ]
  }
 ],
 "metadata": {
  "kernelspec": {
   "display_name": "Python 3.10.4 64-bit",
   "language": "python",
   "name": "python3"
  },
  "language_info": {
   "codemirror_mode": {
    "name": "ipython",
    "version": 3
   },
   "file_extension": ".py",
   "mimetype": "text/x-python",
   "name": "python",
   "nbconvert_exporter": "python",
   "pygments_lexer": "ipython3",
   "version": "3.10.4"
  },
  "orig_nbformat": 4,
  "vscode": {
   "interpreter": {
    "hash": "aee8b7b246df8f9039afb4144a1f6fd8d2ca17a180786b69acc140d282b71a49"
   }
  }
 },
 "nbformat": 4,
 "nbformat_minor": 2
}
