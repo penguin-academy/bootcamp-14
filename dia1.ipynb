{
 "cells": [
  {
   "cell_type": "markdown",
   "metadata": {},
   "source": [
    "# Mi primer encuentro con Python, hicimos un Hola Mundo\n"
   ]
  },
  {
   "cell_type": "code",
   "execution_count": 9,
   "metadata": {},
   "outputs": [
    {
     "name": "stdout",
     "output_type": "stream",
     "text": [
      "Mbaeichapa\n",
      "Hola Mundo\n"
     ]
    }
   ],
   "source": [
    "# print(\"Hola Mundo\") \n",
    "# esta linea no se ejecuta \n",
    "\n",
    "# variables \n",
    "\n",
    "saludo = \"Mbaeichapa\"\n",
    "print(saludo)\n",
    "saludo = \"Hola Mundo\" #esto es una variable que guarda un texto\n",
    "print(saludo)\n",
    "\n",
    "\n",
    "# tipos de datos \n"
   ]
  }
 ],
 "metadata": {
  "kernelspec": {
   "display_name": "Python 3.10.4 64-bit",
   "language": "python",
   "name": "python3"
  },
  "language_info": {
   "codemirror_mode": {
    "name": "ipython",
    "version": 3
   },
   "file_extension": ".py",
   "mimetype": "text/x-python",
   "name": "python",
   "nbconvert_exporter": "python",
   "pygments_lexer": "ipython3",
   "version": "3.10.4"
  },
  "orig_nbformat": 4,
  "vscode": {
   "interpreter": {
    "hash": "aee8b7b246df8f9039afb4144a1f6fd8d2ca17a180786b69acc140d282b71a49"
   }
  }
 },
 "nbformat": 4,
 "nbformat_minor": 2
}
